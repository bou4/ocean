{
 "cells": [
  {
   "cell_type": "code",
   "execution_count": 1,
   "id": "cf473043-a53f-4c4f-a2b9-2d594555f765",
   "metadata": {},
   "outputs": [],
   "source": [
    "import numpy as np\n",
    "import matplotlib.pyplot as plt\n",
    "from ocean import *"
   ]
  },
  {
   "cell_type": "code",
   "execution_count": 2,
   "id": "9eca8eba-c284-4785-8ca1-a33c8ccd8b76",
   "metadata": {},
   "outputs": [
    {
     "data": {
      "text/plain": [
       "<Simulator.spectre: Symbol('spectre')>"
      ]
     },
     "execution_count": 2,
     "metadata": {},
     "output_type": "execute_result"
    }
   ],
   "source": [
    "simulator(Simulator.spectre)"
   ]
  },
  {
   "cell_type": "code",
   "execution_count": 3,
   "id": "9221a62c-b7dc-4877-81fa-9b3f1e494ba9",
   "metadata": {},
   "outputs": [
    {
     "data": {
      "text/plain": [
       "(Symbol('Zeno'), Symbol('DynamicAmplifierTest'), Symbol('schematic'))"
      ]
     },
     "execution_count": 3,
     "metadata": {},
     "output_type": "execute_result"
    }
   ],
   "source": [
    "design('Zeno', 'DynamicAmplifierTest', 'schematic')"
   ]
  },
  {
   "cell_type": "code",
   "execution_count": 4,
   "id": "de184220-1504-4f45-bac2-83d06c4e7c7d",
   "metadata": {},
   "outputs": [
    {
     "data": {
      "text/plain": [
       "[('$UCDPRJDIR/corners.scs', 'top_tt')]"
      ]
     },
     "execution_count": 4,
     "metadata": {},
     "output_type": "execute_result"
    }
   ],
   "source": [
    "model_file(('$UCDPRJDIR/corners.scs', 'top_tt'))"
   ]
  },
  {
   "cell_type": "code",
   "execution_count": 5,
   "id": "65d22f75-6d81-486c-8b64-771693f995c0",
   "metadata": {},
   "outputs": [
    {
     "data": {
      "text/plain": [
       "'1e-14'"
      ]
     },
     "execution_count": 5,
     "metadata": {},
     "output_type": "execute_result"
    }
   ],
   "source": [
    "# Define design variables\n",
    "vars = {}\n",
    "\n",
    "# - Supply voltage [V]\n",
    "vars['vdd'] = 900e-3\n",
    "# - Differential mode input voltage [V]\n",
    "vars['vid'] = 10e-3\n",
    "# - Common mode input voltage [V]\n",
    "vars['vic'] = 450e-3\n",
    "# - Positive input voltage [V]\n",
    "vars['vip'] = vars['vic'] + vars['vid'] / 2\n",
    "# - Negative input voltage [V]\n",
    "vars['vin'] = vars['vic'] - vars['vid'] / 2\n",
    "# Sampling frequency [Hz]\n",
    "vars['fs'] = 12.8e9\n",
    "# Load capacitance [F]\n",
    "vars['cl'] = 10e-15\n",
    "\n",
    "des_var(vars)"
   ]
  },
  {
   "cell_type": "code",
   "execution_count": 6,
   "id": "59d5113d-9a60-48c4-8f50-2b8eb0e7b1b3",
   "metadata": {},
   "outputs": [
    {
     "data": {
      "text/plain": [
       "'/von'"
      ]
     },
     "execution_count": 6,
     "metadata": {},
     "output_type": "execute_result"
    }
   ],
   "source": [
    "save(SaveType.v, ['/vop', '/von'])"
   ]
  },
  {
   "cell_type": "code",
   "execution_count": 7,
   "id": "135d80a8-7f6a-465e-b450-198a6663ba4c",
   "metadata": {},
   "outputs": [
    {
     "data": {
      "text/plain": [
       "'7.8125e-11'"
      ]
     },
     "execution_count": 7,
     "metadata": {},
     "output_type": "execute_result"
    }
   ],
   "source": [
    "analysis(AnalysisType.tran, stop = 1 / vars['fs'])"
   ]
  },
  {
   "cell_type": "code",
   "execution_count": 8,
   "id": "9556b418-7b84-4100-8c93-a179faa9c2e4",
   "metadata": {},
   "outputs": [
    {
     "data": {
      "text/plain": [
       "'/srv/spectre07/cameysma/DynamicAmplifierTest/spectre/schematic'"
      ]
     },
     "execution_count": 8,
     "metadata": {},
     "output_type": "execute_result"
    }
   ],
   "source": [
    "run()"
   ]
  },
  {
   "cell_type": "code",
   "execution_count": 9,
   "id": "a7f99aca-a595-4e6b-a07b-df65b0d9d9f7",
   "metadata": {},
   "outputs": [
    {
     "data": {
      "text/plain": [
       "<remote stdobj@0x42aa4308>"
      ]
     },
     "execution_count": 9,
     "metadata": {},
     "output_type": "execute_result"
    }
   ],
   "source": [
    "select_result(AnalysisType.tran)"
   ]
  },
  {
   "cell_type": "code",
   "execution_count": 10,
   "id": "b097e120-9111-4ea6-a9a0-295bc97e1669",
   "metadata": {},
   "outputs": [],
   "source": [
    "vop = get_data('/vop')\n",
    "von = get_data('/von')"
   ]
  },
  {
   "cell_type": "code",
   "execution_count": 11,
   "id": "a0048d28-9832-4fed-adff-575b90510bcc",
   "metadata": {},
   "outputs": [
    {
     "data": {
      "image/png": "[encoded data removed]",
      "text/plain": [
       "<Figure size 432x288 with 1 Axes>"
      ]
     },
     "metadata": {
      "needs_background": "light"
     },
     "output_type": "display_data"
    }
   ],
   "source": [
    "plt.plot(*vop.pull())\n",
    "plt.plot(*von.pull())\n",
    "plt.show()"
   ]
  }
 ],
 "metadata": {
  "kernelspec": {
   "display_name": "Python 3 (ipykernel)",
   "language": "python",
   "name": "python3"
  },
  "language_info": {
   "codemirror_mode": {
    "name": "ipython",
    "version": 3
   },
   "file_extension": ".py",
   "mimetype": "text/x-python",
   "name": "python",
   "nbconvert_exporter": "python",
   "pygments_lexer": "ipython3",
   "version": "3.10.1"
  }
 },
 "nbformat": 4,
 "nbformat_minor": 5
}
